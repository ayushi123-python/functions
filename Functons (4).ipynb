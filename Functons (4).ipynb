{
  "nbformat": 4,
  "nbformat_minor": 0,
  "metadata": {
    "colab": {
      "provenance": []
    },
    "kernelspec": {
      "name": "python3",
      "display_name": "Python 3"
    },
    "language_info": {
      "name": "python"
    }
  },
  "cells": [
    {
      "cell_type": "code",
      "execution_count": null,
      "metadata": {
        "id": "lHFkHw4uZ0cV"
      },
      "outputs": [],
      "source": []
    },
    {
      "cell_type": "markdown",
      "source": [
        "#Functions\n"
      ],
      "metadata": {
        "id": "6ctXtIDYaPMj"
      }
    },
    {
      "cell_type": "markdown",
      "source": [
        "1.What is the difference between a function and method in Python?\n",
        "   \n",
        "   -Functions are independent blocks of code that can be called from anywhere, while methods are tied to objects or classes and need an object or class instance to be invoked."
      ],
      "metadata": {
        "id": "sTqZzBPgagU0"
      }
    },
    {
      "cell_type": "markdown",
      "source": [
        "# for example\n"
      ],
      "metadata": {
        "id": "C2ScZ5b6wYNT"
      }
    },
    {
      "cell_type": "code",
      "source": [
        "# Basic Python method\n",
        "class class_name\n",
        "    def method_name () :\n",
        "        ......\n",
        "        # method body\n",
        "        ......"
      ],
      "metadata": {
        "id": "KBBorTOrwLqO"
      },
      "execution_count": null,
      "outputs": []
    },
    {
      "cell_type": "markdown",
      "source": [
        " # second question\n",
        "  - Function parameters are variables defined in a function declaration. This act as placeholders for the values (arguments) that will be passed to the function.\n",
        "\n",
        " function arguments are the actual values that you pass to the function when you call it. These values replace the parameters defined in the function."
      ],
      "metadata": {
        "id": "vICOh9FgwvNC"
      }
    },
    {
      "cell_type": "markdown",
      "source": [
        " # third question\n",
        " **Defining a function**\n",
        " - Use the def keyword\n",
        " - Write the function's name\n",
        " - Add parentheses and a colon\n",
        "Specify the arguments the function takes\n",
        "\n",
        "***Calling a function ***\n",
        "-Type the function's name\n",
        " - Add parentheses\n",
        "  If there are arguments, pass them to the function inside the parentheses"
      ],
      "metadata": {
        "id": "k8XPJEvGzSaV"
      }
    },
    {
      "cell_type": "markdown",
      "source": [
        "# fourth question\n",
        " - A return statement ends the execution of a function, and returns control to the calling function. Execution resumes in the calling function at the point immediately following the call. A return statement can return a value to the calling function. For more information, see Return type."
      ],
      "metadata": {
        "id": "_8GRZl6F0XT5"
      }
    },
    {
      "cell_type": "markdown",
      "source": [
        "# fifth question\n",
        "Iterable is an object, that one can iterate over. It generates an Iterator when passed to iter() method. An iterator is an object, which is used to iterate over an iterable object using the __next__() method. Iterators have the __next__() method, which returns the next item of the object."
      ],
      "metadata": {
        "id": "GX5luyky0VRR"
      }
    },
    {
      "cell_type": "code",
      "source": [
        "# code\n",
        "next(\"GFG\")"
      ],
      "metadata": {
        "id": "Z0yKNYlz1ZLf"
      },
      "execution_count": null,
      "outputs": []
    },
    {
      "cell_type": "markdown",
      "source": [
        "#output\n"
      ],
      "metadata": {
        "id": "_9YnXAtj1owj"
      }
    },
    {
      "cell_type": "code",
      "source": [
        "Traceback (most recent call last):\n",
        "  File \"/home/1c9622166e9c268c0d67cd9ba2177142.py\", line 2, in <module>\n",
        "    next(\"GFG\")\n",
        "TypeError: 'str' object is not an iterator"
      ],
      "metadata": {
        "id": "LVnhjHqI1ay7"
      },
      "execution_count": null,
      "outputs": []
    },
    {
      "cell_type": "markdown",
      "source": [
        " # example 2"
      ],
      "metadata": {
        "id": "0sw8klHC2Qns"
      }
    },
    {
      "cell_type": "code",
      "source": [
        "# list of cities\n",
        "cities = [\"Berlin\", \"Vienna\", \"Zurich\"]\n",
        "\n",
        "# initialize the object\n",
        "iterator_obj = iter(cities)\n",
        "\n",
        "print(next(iterator_obj))\n",
        "print(next(iterator_obj))\n",
        "print(next(iterator_obj))"
      ],
      "metadata": {
        "id": "xgQFpfCg1_kw"
      },
      "execution_count": null,
      "outputs": []
    },
    {
      "cell_type": "markdown",
      "source": [
        "#output\n",
        "Berlin\n",
        "Vienna\n",
        "Zurich"
      ],
      "metadata": {
        "id": "1JysE7hu2B58"
      }
    },
    {
      "cell_type": "markdown",
      "source": [
        "# sixth question\n",
        " - A generator function is a special type of function that returns an iterator object. Instead of using return to send back a single value, generator functions use yield to produce a series of results over time. This allows the function to generate values and pause its execution after each yield, maintaining its state between iterations."
      ],
      "metadata": {
        "id": "ydwg3ayb1nAe"
      }
    },
    {
      "cell_type": "code",
      "source": [
        "def fun(max):\n",
        "    cnt = 1\n",
        "    while cnt <= max:\n",
        "        yield cnt\n",
        "        cnt += 1\n",
        "\n",
        "ctr = fun(5)\n",
        "for n in ctr:\n",
        "    print(n)"
      ],
      "metadata": {
        "id": "Klj1jsfF22vH"
      },
      "execution_count": null,
      "outputs": []
    },
    {
      "cell_type": "markdown",
      "source": [
        "output\n",
        " 1\n",
        " 2\n",
        " 3\n",
        " 4\n",
        " 5"
      ],
      "metadata": {
        "id": "hAF2EG212_HC"
      }
    },
    {
      "cell_type": "markdown",
      "source": [
        "**Explaination** :This generator function fun yields numbers from 1 up to a specified max. Each call to next() on the generator object resumes execution right after the yield statement, where it last left off."
      ],
      "metadata": {
        "id": "TpLM0d5v0vgl"
      }
    },
    {
      "cell_type": "markdown",
      "source": [
        "# seventh question"
      ],
      "metadata": {
        "id": "HRpiDwJ03kfz"
      }
    },
    {
      "cell_type": "markdown",
      "source": [
        " ** Advantages of genetators**\n",
        "\n",
        "- Generators generate values on the fly, reducing memory usage compared to storing the entire sequence in memory.\n",
        "\n",
        "- Values are computed only when needed, which can lead to performance improvements, especially with large datasets.\n",
        "\n",
        "\n",
        "- Generators automatically maintain their state between yield statements, making them suitable for iterative processes.\n",
        "\n",
        "\n",
        "- Generators simplify code for iterating over large datasets or streams of data without needing to manage state explicitly.\n",
        "\n"
      ],
      "metadata": {
        "id": "cuRpHHnp3o2B"
      }
    },
    {
      "cell_type": "markdown",
      "source": [],
      "metadata": {
        "id": "_XfFjFhG4X9-"
      }
    },
    {
      "cell_type": "markdown",
      "source": [
        "# eighth question\n",
        "Python Lambda Functions are anonymous functions means that the function is without a name. As we already know the def keyword is used to define a normal function in Python. Similarly, the lambda keyword is used to define an anonymous function in Python.\n",
        "\n",
        "In the example, we defined a lambda function(upper) to convert a string to its upper case using upper()."
      ],
      "metadata": {
        "id": "vt-M75ZP4u5A"
      }
    },
    {
      "cell_type": "code",
      "source": [
        "s1 = 'GeeksforGeeks'\n",
        "\n",
        "s2 = lambda func: func.upper()\n",
        "print(s2(s1))"
      ],
      "metadata": {
        "id": "KVV8_Wno5yso"
      },
      "execution_count": null,
      "outputs": []
    },
    {
      "cell_type": "markdown",
      "source": [
        "### **Output**\n",
        "GEEKSFORGEEKS"
      ],
      "metadata": {
        "id": "baA9meNy52lT"
      }
    },
    {
      "cell_type": "markdown",
      "source": [
        "# ninth question\n",
        "- In Python, the map() function is used to apply a specific function to every element within an iterable (like a list or tuple), effectively transforming each element and returning a new iterable containing the results, essentially allowing you to perform operations on all items in a collection without writing explicit loops"
      ],
      "metadata": {
        "id": "9Gq5c4jE6XE7"
      }
    },
    {
      "cell_type": "markdown",
      "source": [
        "# tenth question\n",
        "**Map Function**:\n",
        "The map () function returns a map object(which is an iterator) of the results after applying the given function to each item of a given iterable (list, tuple, etc.).\n",
        "\n",
        "**Reduce Function** :\n",
        "The reduce function is used to apply a particular function passed in its argument to all of the list elements mentioned in the sequence passed along.This function is defined in “functools” module.\n",
        "\n",
        "**Filter Function**:\n",
        "The filter() method filters the given sequence with the help of a function that tests each element in the sequence to be true or not."
      ],
      "metadata": {
        "id": "R8LTY3z062dG"
      }
    },
    {
      "cell_type": "markdown",
      "source": [
        "# eventh question\n"
      ],
      "metadata": {
        "id": "NNn-1fo88Qeh"
      }
    },
    {
      "cell_type": "markdown",
      "source": [
        "                                                            \n",
        "##                                                        ** #Function pratical**"
      ],
      "metadata": {
        "id": "KrV_sUH5e9qR"
      }
    },
    {
      "cell_type": "markdown",
      "source": [
        "1. Write a python function that takes a list a of nuber as input and returns th sum of all even numbers in the list ?\n"
      ],
      "metadata": {
        "id": "TD3ZNOFNfJmi"
      }
    },
    {
      "cell_type": "code",
      "source": [
        "def sum_even_numbers(numbers):\n",
        "    sum_even = 0\n",
        "    for num in numbers:\n",
        "        if num % 2 == 0:\n",
        "            sum_even += num\n",
        "    return sum_even\n",
        "    sum_even_numbers([1, 2, 3, 4, 5, 6, 7, 8, 9])"
      ],
      "metadata": {
        "colab": {
          "base_uri": "https://localhost:8080/"
        },
        "id": "ODaSINsOo5b7",
        "outputId": "647f927f-0576-4dc2-93ce-180bc410ebf6"
      },
      "execution_count": null,
      "outputs": [
        {
          "output_type": "execute_result",
          "data": {
            "text/plain": [
              "20"
            ]
          },
          "metadata": {},
          "execution_count": 6
        }
      ]
    },
    {
      "cell_type": "markdown",
      "source": [
        "2. Create a python function that accepts a string and returns the reverse of that string ?\n",
        "\n",
        "---\n",
        "\n",
        "\n",
        "\n",
        "---\n",
        "\n"
      ],
      "metadata": {
        "id": "yToNyHIuqFgO"
      }
    },
    {
      "cell_type": "code",
      "source": [
        "def reverse_string(String):\n",
        "    return String[::-1]\n",
        "\n",
        "string = input (\"Enter the string\")\n",
        "print(string)\n",
        "print(reverse_string(string))\n",
        "print (\"String count:\",len(string))"
      ],
      "metadata": {
        "colab": {
          "base_uri": "https://localhost:8080/"
        },
        "id": "W3AvgENPuj2Y",
        "outputId": "0ac74d45-8de9-4d2c-b8be-748af4c6f8e2"
      },
      "execution_count": null,
      "outputs": [
        {
          "output_type": "stream",
          "name": "stdout",
          "text": [
            "Enter the stringcomputer\n",
            "computer\n",
            "retupmoc\n",
            "String count: 8\n"
          ]
        }
      ]
    },
    {
      "cell_type": "markdown",
      "source": [
        "3.Implementa python function that takes a list of integers and returns a new list contining the squares of each number ?"
      ],
      "metadata": {
        "id": "VUsVkbXavo81"
      }
    },
    {
      "cell_type": "code",
      "source": [
        "def square_numbers(input_list):\n",
        "    return [x ** 2 for x in input_list]"
      ],
      "metadata": {
        "id": "KkCGJbvowzcp"
      },
      "execution_count": null,
      "outputs": []
    },
    {
      "cell_type": "code",
      "source": [
        "numbers = [1, 2, 3, 4, 5]\n",
        "squared_numbers = square_numbers(numbers)\n",
        "print(squared_numbers)  # Output: [1, 4, 9, 16, 25]"
      ],
      "metadata": {
        "colab": {
          "base_uri": "https://localhost:8080/"
        },
        "id": "4a3K9FRcw0hU",
        "outputId": "65c567fe-8701-4d1e-88d4-bb29239a4bab"
      },
      "execution_count": null,
      "outputs": [
        {
          "output_type": "stream",
          "name": "stdout",
          "text": [
            "[1, 4, 9, 16, 25]\n"
          ]
        }
      ]
    },
    {
      "cell_type": "markdown",
      "source": [
        "4.Write a python function that checks if a given number is prime or not from 1 to 200?"
      ],
      "metadata": {
        "id": "DeERnYtjxTkJ"
      }
    },
    {
      "cell_type": "code",
      "source": [
        "def is_prime(num):\n",
        "    if num <= 1:\n",
        "        return False\n",
        "    for i in range(2, int(num ** 0.5) + 1):\n",
        "        if num % i == 0:\n",
        "            return False\n",
        "    return True"
      ],
      "metadata": {
        "id": "kM-oKboWx1Y8"
      },
      "execution_count": null,
      "outputs": []
    },
    {
      "cell_type": "code",
      "source": [
        "for num in range(1, 200):\n",
        "    if is_prime(num):\n",
        "        print(num)"
      ],
      "metadata": {
        "colab": {
          "base_uri": "https://localhost:8080/"
        },
        "id": "ccTUjGMpx9EA",
        "outputId": "b598dc5b-01b8-46d2-b447-d11e18c74d12"
      },
      "execution_count": null,
      "outputs": [
        {
          "output_type": "stream",
          "name": "stdout",
          "text": [
            "2\n",
            "3\n",
            "5\n",
            "7\n",
            "11\n",
            "13\n",
            "17\n",
            "19\n",
            "23\n",
            "29\n",
            "31\n",
            "37\n",
            "41\n",
            "43\n",
            "47\n",
            "53\n",
            "59\n",
            "61\n",
            "67\n",
            "71\n",
            "73\n",
            "79\n",
            "83\n",
            "89\n",
            "97\n",
            "101\n",
            "103\n",
            "107\n",
            "109\n",
            "113\n",
            "127\n",
            "131\n",
            "137\n",
            "139\n",
            "149\n",
            "151\n",
            "157\n",
            "163\n",
            "167\n",
            "173\n",
            "179\n",
            "181\n",
            "191\n",
            "193\n",
            "197\n",
            "199\n"
          ]
        }
      ]
    },
    {
      "cell_type": "markdown",
      "source": [
        "5.Create an iterators class in python that generates the Fibonacci sequence up to a specified numbers of terms?"
      ],
      "metadata": {
        "id": "QnfbHw5Lyepm"
      }
    },
    {
      "cell_type": "code",
      "source": [
        "class FibonacciIterator:\n",
        "    def __init__(self, n_terms):\n",
        "        self.n_terms = n_terms\n",
        "        self.a, self.b = 0, 1\n",
        "        self.count = 0\n",
        "\n",
        "    def __iter__(self):\n",
        "        return self\n",
        "\n",
        "    def __next__(self):\n",
        "        if self.count >= self.n_terms:\n",
        "            raise StopIteration\n",
        "        if self.count == 0:\n",
        "            self.count += 1\n",
        "            return self.a\n",
        "        elif self.count == 1:\n",
        "            self.count += 1\n",
        "            return self.b\n",
        "        else:\n",
        "            self.a, self.b = self.b, self.a + self.b\n",
        "            self.count += 1\n",
        "            return self.b\n",
        " # for example\n",
        "n_terms = 10\n",
        "fib_iterator = FibonacciIterator(n_terms)\n",
        "for num in fib_iterator:\n",
        "    print(num)\n"
      ],
      "metadata": {
        "colab": {
          "base_uri": "https://localhost:8080/"
        },
        "id": "RIFx5JG-zms_",
        "outputId": "0bea2e1e-99d5-4009-896c-e6ded56990c3"
      },
      "execution_count": null,
      "outputs": [
        {
          "output_type": "stream",
          "name": "stdout",
          "text": [
            "0\n",
            "1\n",
            "1\n",
            "2\n",
            "3\n",
            "5\n",
            "8\n",
            "13\n",
            "21\n",
            "34\n"
          ]
        }
      ]
    },
    {
      "cell_type": "markdown",
      "source": [
        "6.Write a generator functionin python that yields the powers of 2 up to given expotent?"
      ],
      "metadata": {
        "id": "2hOOYlIc0DxD"
      }
    },
    {
      "cell_type": "code",
      "source": [
        "def powers_of_2(max_exponent):\n",
        "    for exponent in range(max_exponent + 1):\n",
        "        yield 2 ** exponent\n",
        "\n",
        "# Example:\n",
        "max_exp = 10\n",
        "for power in powers_of_2(max_exp):\n",
        "    print(power)\n"
      ],
      "metadata": {
        "colab": {
          "base_uri": "https://localhost:8080/"
        },
        "id": "TFRO2fjo0gVy",
        "outputId": "abd9be99-fa81-471e-a602-9398c9ecece5"
      },
      "execution_count": null,
      "outputs": [
        {
          "output_type": "stream",
          "name": "stdout",
          "text": [
            "1\n",
            "2\n",
            "4\n",
            "8\n",
            "16\n",
            "32\n",
            "64\n",
            "128\n",
            "256\n",
            "512\n",
            "1024\n"
          ]
        }
      ]
    },
    {
      "cell_type": "markdown",
      "source": [
        "7.Implement a generator function that reads a file linr by line and yields each line as a string ?"
      ],
      "metadata": {
        "id": "-n1-5nCU0xUY"
      }
    },
    {
      "cell_type": "code",
      "source": [
        "def read_file_line_by_line(file_path):\n",
        "    \"\"\"Generator function that reads a file line by line and yields each line as a string.\"\"\"\n",
        "    with open(file_path, 'r', encoding='utf-8') as file:\n",
        "        for line in file:\n",
        "            yield line.strip()\n",
        "\n",
        "\n",
        "# for line in read_file_line_by_line(\"example.txt\"):\n",
        "#     print(line)\n"
      ],
      "metadata": {
        "id": "RTE2FzZw1Yzq"
      },
      "execution_count": null,
      "outputs": []
    },
    {
      "cell_type": "markdown",
      "source": [
        "8.Use a lambda function in python to sort a list of tuples based on the second element of ech tuple?"
      ],
      "metadata": {
        "id": "2nYEe9721fnA"
      }
    },
    {
      "cell_type": "code",
      "source": [
        "sample_list = [(1, 3), (4, 1), (2, 5), (7, 2)]\n",
        "\n",
        "sorted_list = sorted(sample_list, key=lambda x: x[1])\n",
        "\n",
        "print(sorted_list)"
      ],
      "metadata": {
        "colab": {
          "base_uri": "https://localhost:8080/"
        },
        "id": "KS4YmmXT2A2O",
        "outputId": "cc24bb60-c9ec-4f27-e866-0738f81db813"
      },
      "execution_count": null,
      "outputs": [
        {
          "output_type": "stream",
          "name": "stdout",
          "text": [
            "[(4, 1), (7, 2), (1, 3), (2, 5)]\n"
          ]
        }
      ]
    },
    {
      "cell_type": "markdown",
      "source": [
        "9.Write a Python program that uses map() to convert to list of temperatures from celsius to fahrenheit ?"
      ],
      "metadata": {
        "id": "xCSZQWOU2WrK"
      }
    },
    {
      "cell_type": "code",
      "source": [
        "celsius_to_fahrenheit = lambda c: (c * 9/5) + 32\n",
        "temperatures_celsius = [0, 10, 20, 30, 40, 100]\n",
        "temperatures_fahrenheit = list(map(celsius_to_fahrenheit, temperatures_celsius))\n",
        "print(temperatures_fahrenheit)"
      ],
      "metadata": {
        "colab": {
          "base_uri": "https://localhost:8080/"
        },
        "id": "KFzMby5V24YB",
        "outputId": "d18940f0-0c52-4fe6-84d3-065ef7eba89d"
      },
      "execution_count": null,
      "outputs": [
        {
          "output_type": "stream",
          "name": "stdout",
          "text": [
            "[32.0, 50.0, 68.0, 86.0, 104.0, 212.0]\n"
          ]
        }
      ]
    },
    {
      "cell_type": "markdown",
      "source": [
        "10.Create a python program that uses filter to remove all the vowelsfrom given string ?"
      ],
      "metadata": {
        "id": "8b-IUHSA4Fqh"
      }
    },
    {
      "cell_type": "code",
      "source": [
        "is_consonant = lambda char: char.lower() not in 'aeiou'\n",
        "input_string = \"Hello, how are you?\"\n",
        "filtered_string = ''.join(filter(is_consonant, input_string))\n",
        "print(filtered_string)\n"
      ],
      "metadata": {
        "colab": {
          "base_uri": "https://localhost:8080/"
        },
        "id": "31FrxoZc4dzZ",
        "outputId": "693a0601-7b10-43a9-b784-28310d240c02"
      },
      "execution_count": null,
      "outputs": [
        {
          "output_type": "stream",
          "name": "stdout",
          "text": [
            "Hll, hw r y?\n"
          ]
        }
      ]
    },
    {
      "cell_type": "markdown",
      "source": [
        "11.Write a python program, which returns a list with 2- tuples.Each tuple consists of the order number and the products  of the price per item and the quantity. the product should be increased by 10-$ if the value of the order is smaller than 10000\n",
        "write a python program using lambda and map"
      ],
      "metadata": {
        "id": "WqB1jVHM4u2Z"
      }
    },
    {
      "cell_type": "code",
      "source": [
        "# List of orders with (order_number, price_per_item, quantity)\n",
        "orders = [(1, 500, 10), (2, 2000, 2), (3, 100, 50), (4, 4000, 1)]\n",
        "\n",
        "# Lambda function to calculate total price with adjustment\n",
        "calculate_price = lambda order: (order[0], (order[1] * order[2]) + 10 if order[1] * order[2] < 10000 else order[1] * order[2])\n",
        "\n",
        "# Apply map function\n",
        "order_totals = list(map(calculate_price, orders))\n",
        "\n",
        "# Output result\n",
        "print(order_totals)\n"
      ],
      "metadata": {
        "colab": {
          "base_uri": "https://localhost:8080/"
        },
        "id": "GBIR6W_S6TXx",
        "outputId": "8097a13a-5a43-475b-87ee-c39d9eea3c11"
      },
      "execution_count": null,
      "outputs": [
        {
          "output_type": "stream",
          "name": "stdout",
          "text": [
            "[(1, 5010), (2, 4010), (3, 5010), (4, 4010)]\n"
          ]
        }
      ]
    }
  ]
}